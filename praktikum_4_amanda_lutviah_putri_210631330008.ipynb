{
  "nbformat": 4,
  "nbformat_minor": 0,
  "metadata": {
    "colab": {
      "provenance": [],
      "authorship_tag": "ABX9TyOw/SKrKCxwOAUwH86yvG40",
      "include_colab_link": true
    },
    "kernelspec": {
      "name": "python3",
      "display_name": "Python 3"
    },
    "language_info": {
      "name": "python"
    }
  },
  "cells": [
    {
      "cell_type": "markdown",
      "metadata": {
        "id": "view-in-github",
        "colab_type": "text"
      },
      "source": [
        "<a href=\"https://colab.research.google.com/github/amandalutviah/Praktikum-4-Amanda-Lutviah-Putri-2510631330008/blob/main/praktikum_4_amanda_lutviah_putri_210631330008.ipynb\" target=\"_parent\"><img src=\"https://colab.research.google.com/assets/colab-badge.svg\" alt=\"Open In Colab\"/></a>"
      ]
    },
    {
      "cell_type": "code",
      "source": [
        "def simulasi_gerak_lurus():\n",
        "    # Kasus 2\n",
        "    print(\"Simulasi Gerak Lurus dengan Percepatan Konstan\")\n",
        "\n",
        "    #input data\n",
        "    m = float(input(\"Masukkan massa benda (kg): \"))\n",
        "    s0 = float(input(\"Masukkan posisi awal (m): \"))\n",
        "    v0 = float(input(\"Masukkan kecepatan awal (m/s): \"))\n",
        "    a = float(input(\"Masukkan percepatan (m/s^2): \"))\n",
        "    t_total = int(input(\"Masukkan total waktu simulasi (detik): \"))\n",
        "    dt = float(input(\"Masukkan interval waktu (detik): \"))\n",
        "    g = 9.8  # Gravitasi ditetapkan 9.8 m/s^2\n",
        "\n",
        "    # inisialisasi waktu\n",
        "    t = 0\n",
        "\n",
        "    # header tabel output\n",
        "    print(\"\\n\" + \"=\"*75)\n",
        "    print(f\"{'Waktu (s)':<12}{'Posisi (m)':<15}{'Kecepatan (m/s)':<20}{'EK (Joule)':<15}{'EP (Joule)':<15}\")\n",
        "    print(\"=\"*75)\n",
        "\n",
        "    # looping untuk menghitung dan menampilkan data setiap interval [cite: 6]\n",
        "    while t <= t_total:\n",
        "        # menghitung posisi dan kecepatan [cite: 7, 8]\n",
        "        s = s0 + v0 * t + 0.5 * a * t**2\n",
        "        v = v0 + a * t\n",
        "\n",
        "        # menghitung energi kinetik dan potensial\n",
        "        ek = 0.5 * m * v**2\n",
        "        ep = m * g * s\n",
        "\n",
        "        # mencetak hasil dalam format tabel\n",
        "        print(f\"{t:<12.1f}{s:<15.2f}{v:<20.2f}{ek:<15.2f}{ep:<15.2f}\")\n",
        "\n",
        "        # menambah waktu sesuai interval [cite: 10]\n",
        "        t += dt\n",
        "    print(\"=\"*75)\n",
        "\n",
        "# menjalankan program utama\n",
        "if __name__ == \"__main__\":\n",
        "    simulasi_gerak_lurus()"
      ],
      "metadata": {
        "colab": {
          "base_uri": "https://localhost:8080/"
        },
        "id": "n1mc1uyckgGD",
        "outputId": "dbf9cd8a-b222-454c-8e29-3cabbab81d61"
      },
      "execution_count": null,
      "outputs": [
        {
          "output_type": "stream",
          "name": "stdout",
          "text": [
            "Simulasi Gerak Lurus dengan Percepatan Konstan\n",
            "Masukkan massa benda (kg): 5\n",
            "Masukkan posisi awal (m): 15\n",
            "Masukkan kecepatan awal (m/s): 4\n",
            "Masukkan percepatan (m/s^2): 2\n",
            "Masukkan total waktu simulasi (detik): 8\n",
            "Masukkan interval waktu (detik): 2\n",
            "\n",
            "===========================================================================\n",
            "Waktu (s)   Posisi (m)     Kecepatan (m/s)     EK (Joule)     EP (Joule)     \n",
            "===========================================================================\n",
            "0.0         15.00          4.00                40.00          735.00         \n",
            "2.0         27.00          8.00                160.00         1323.00        \n",
            "4.0         47.00          12.00               360.00         2303.00        \n",
            "6.0         75.00          16.00               640.00         3675.00        \n",
            "8.0         111.00         20.00               1000.00        5439.00        \n",
            "===========================================================================\n"
          ]
        }
      ]
    }
  ]
}